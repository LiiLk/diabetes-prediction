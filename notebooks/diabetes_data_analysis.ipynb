{
 "cells": [
  {
   "cell_type": "markdown",
   "id": "97fbb7d8-d657-4e6e-9ef1-5a084cbdd7a0",
   "metadata": {},
   "source": [
    "# Diabetes Dataset Analysis\n",
    "This notebook analyzes the Pima Indians Diabetes dataset. The primary goal is to predict whether a patient is likely to develop diabetes based on diagnostic measurements. This involves exploring the dataset, preprocessing the data, and applying machine learning models"
   ]
  },
  {
   "cell_type": "markdown",
   "id": "c93de2de-7293-4c13-8a0b-30367132c164",
   "metadata": {},
   "source": [
    "Key libraries include `pandas` for data manipulation, `matplotlib` and `seaborn` for visualization, and `scikit-learn` for building and evaluating predictive models."
   ]
  },
  {
   "cell_type": "code",
   "execution_count": 2,
   "id": "86065ae2-0181-4c3c-8e40-66e64f4bba49",
   "metadata": {},
   "outputs": [],
   "source": [
    "import pandas as pd\n",
    "import matplotlib.pyplot as plt\n",
    "import seaborn as sns\n",
    "import numpy as np\n",
    "from sklearn.model_selection import train_test_split\n",
    "from sklearn.preprocessing import StandardScaler"
   ]
  },
  {
   "cell_type": "markdown",
   "id": "5c308cce-254a-48be-ac3c-66acfcfcd890",
   "metadata": {},
   "source": [
    "## 1. Data Exploration"
   ]
  },
  {
   "cell_type": "markdown",
   "id": "ea0ebd17-4a63-4d3e-bec5-d60ebda1e813",
   "metadata": {},
   "source": [
    "### 1.1 Load the Data and Inspect the diabetes data"
   ]
  },
  {
   "cell_type": "code",
   "execution_count": 3,
   "id": "4af0669a-add7-475a-b63b-570b2e59eda7",
   "metadata": {},
   "outputs": [
    {
     "name": "stdout",
     "output_type": "stream",
     "text": [
      "<class 'pandas.core.frame.DataFrame'>\n",
      "RangeIndex: 768 entries, 0 to 767\n",
      "Data columns (total 9 columns):\n",
      " #   Column                    Non-Null Count  Dtype  \n",
      "---  ------                    --------------  -----  \n",
      " 0   Pregnancies               768 non-null    int64  \n",
      " 1   Glucose                   768 non-null    int64  \n",
      " 2   BloodPressure             768 non-null    int64  \n",
      " 3   SkinThickness             768 non-null    int64  \n",
      " 4   Insulin                   768 non-null    int64  \n",
      " 5   BMI                       768 non-null    float64\n",
      " 6   DiabetesPedigreeFunction  768 non-null    float64\n",
      " 7   Age                       768 non-null    int64  \n",
      " 8   Outcome                   768 non-null    int64  \n",
      "dtypes: float64(2), int64(7)\n",
      "memory usage: 54.1 KB\n"
     ]
    },
    {
     "data": {
      "text/html": [
       "<div>\n",
       "<style scoped>\n",
       "    .dataframe tbody tr th:only-of-type {\n",
       "        vertical-align: middle;\n",
       "    }\n",
       "\n",
       "    .dataframe tbody tr th {\n",
       "        vertical-align: top;\n",
       "    }\n",
       "\n",
       "    .dataframe thead th {\n",
       "        text-align: right;\n",
       "    }\n",
       "</style>\n",
       "<table border=\"1\" class=\"dataframe\">\n",
       "  <thead>\n",
       "    <tr style=\"text-align: right;\">\n",
       "      <th></th>\n",
       "      <th>Pregnancies</th>\n",
       "      <th>Glucose</th>\n",
       "      <th>BloodPressure</th>\n",
       "      <th>SkinThickness</th>\n",
       "      <th>Insulin</th>\n",
       "      <th>BMI</th>\n",
       "      <th>DiabetesPedigreeFunction</th>\n",
       "      <th>Age</th>\n",
       "      <th>Outcome</th>\n",
       "    </tr>\n",
       "  </thead>\n",
       "  <tbody>\n",
       "    <tr>\n",
       "      <th>0</th>\n",
       "      <td>10</td>\n",
       "      <td>115</td>\n",
       "      <td>0</td>\n",
       "      <td>0</td>\n",
       "      <td>0</td>\n",
       "      <td>35.3</td>\n",
       "      <td>0.134</td>\n",
       "      <td>29</td>\n",
       "      <td>0</td>\n",
       "    </tr>\n",
       "    <tr>\n",
       "      <th>1</th>\n",
       "      <td>7</td>\n",
       "      <td>100</td>\n",
       "      <td>0</td>\n",
       "      <td>0</td>\n",
       "      <td>0</td>\n",
       "      <td>30.0</td>\n",
       "      <td>0.484</td>\n",
       "      <td>32</td>\n",
       "      <td>1</td>\n",
       "    </tr>\n",
       "    <tr>\n",
       "      <th>2</th>\n",
       "      <td>7</td>\n",
       "      <td>105</td>\n",
       "      <td>0</td>\n",
       "      <td>0</td>\n",
       "      <td>0</td>\n",
       "      <td>0.0</td>\n",
       "      <td>0.305</td>\n",
       "      <td>24</td>\n",
       "      <td>0</td>\n",
       "    </tr>\n",
       "    <tr>\n",
       "      <th>3</th>\n",
       "      <td>2</td>\n",
       "      <td>84</td>\n",
       "      <td>0</td>\n",
       "      <td>0</td>\n",
       "      <td>0</td>\n",
       "      <td>0.0</td>\n",
       "      <td>0.304</td>\n",
       "      <td>21</td>\n",
       "      <td>0</td>\n",
       "    </tr>\n",
       "    <tr>\n",
       "      <th>4</th>\n",
       "      <td>0</td>\n",
       "      <td>131</td>\n",
       "      <td>0</td>\n",
       "      <td>0</td>\n",
       "      <td>0</td>\n",
       "      <td>43.2</td>\n",
       "      <td>0.270</td>\n",
       "      <td>26</td>\n",
       "      <td>1</td>\n",
       "    </tr>\n",
       "  </tbody>\n",
       "</table>\n",
       "</div>"
      ],
      "text/plain": [
       "   Pregnancies  Glucose  BloodPressure  SkinThickness  Insulin   BMI  \\\n",
       "0           10      115              0              0        0  35.3   \n",
       "1            7      100              0              0        0  30.0   \n",
       "2            7      105              0              0        0   0.0   \n",
       "3            2       84              0              0        0   0.0   \n",
       "4            0      131              0              0        0  43.2   \n",
       "\n",
       "   DiabetesPedigreeFunction  Age  Outcome  \n",
       "0                     0.134   29        0  \n",
       "1                     0.484   32        1  \n",
       "2                     0.305   24        0  \n",
       "3                     0.304   21        0  \n",
       "4                     0.270   26        1  "
      ]
     },
     "execution_count": 3,
     "metadata": {},
     "output_type": "execute_result"
    }
   ],
   "source": [
    "csv_path = \"../data/diabetes.csv\"\n",
    "data_diabetes = pd.read_csv(csv_path, sep=\";\")\n",
    "\n",
    "data_diabetes.shape\n",
    "data_diabetes.info()\n",
    "data_diabetes.head()"
   ]
  },
  {
   "cell_type": "markdown",
   "id": "39984f6f-b30e-47de-b241-a79d9690bb80",
   "metadata": {},
   "source": [
    "We load our diabetes dataset and perform initial inspection to understand its structure and contents."
   ]
  },
  {
   "cell_type": "markdown",
   "id": "d5d0b7a0-c436-4af3-ba45-ce34de4e3e11",
   "metadata": {},
   "source": [
    "### 2.3 Data Analysis Sect"
   ]
  },
  {
   "cell_type": "code",
   "execution_count": 4,
   "id": "493cde36-0c15-4dd6-a4e7-0b7eec295db8",
   "metadata": {},
   "outputs": [
    {
     "data": {
      "image/png": "[encoded data removed]",
      "text/plain": [
       "<Figure size 1000x800 with 2 Axes>"
      ]
     },
     "metadata": {},
     "output_type": "display_data"
    }
   ],
   "source": [
    "# Statistical summary\n",
    "data_diabetes.describe()\n",
    "\n",
    "# Check the missing values\n",
    "data_diabetes.isnull().sum()\n",
    "\n",
    "# Correlation analysis\n",
    "plt.figure(figsize=(10, 8))\n",
    "sns.heatmap(data_diabetes.corr(), annot=True, cmap='coolwarm')\n",
    "plt.title('Correlation Matrix')\n",
    "plt.show()"
   ]
  },
  {
   "cell_type": "markdown",
   "id": "e0e01ed4-f047-4398-89f6-c9b48c33ffcb",
   "metadata": {},
   "source": [
    "We examine statistical measures and identify potential data quality issues, focusing on missing values and unusual patterns. Correlation matrix visualisation gives us an understanding of the relationships between variables, highlighting important links that may influence diabetes prediction."
   ]
  },
  {
   "cell_type": "markdown",
   "id": "6b202ed4-bd6d-475a-b3fd-682f2346f326",
   "metadata": {},
   "source": [
    "## 3 Data Preprocessing"
   ]
  },
  {
   "cell_type": "markdown",
   "id": "aca2fdd7-0608-4642-bd9d-02e8067ad3ef",
   "metadata": {},
   "source": [
    "### 3.1 Fill Missing Values with median of each columns"
   ]
  },
  {
   "cell_type": "code",
   "execution_count": 5,
   "id": "c203d155-7588-44db-9e1d-1160f4c1cbeb",
   "metadata": {},
   "outputs": [],
   "source": [
    "# Handle missing values\n",
    "columns_to_process = ['Glucose', 'BloodPressure', 'SkinThickness', 'Insulin', 'BMI']\n",
    "# Fill missing values with median\n",
    "for column in columns_to_process:\n",
    "    data_diabetes[column] = data_diabetes[column].replace(0, data_diabetes[column].median())"
   ]
  },
  {
   "cell_type": "markdown",
   "id": "3fc1930c-6b41-4613-943a-da4a7a85f215",
   "metadata": {},
   "source": [
    "Zero values are physiologically impossible in certain medical measurements. We treat these by using the median of each characteristic."
   ]
  },
  {
   "cell_type": "code",
   "execution_count": 6,
   "id": "ca55f3f9-f172-4464-993a-a1a9d2d96f61",
   "metadata": {},
   "outputs": [
    {
     "data": {
      "text/plain": [
       "Pregnancies                 111\n",
       "Glucose                       0\n",
       "BloodPressure                 0\n",
       "SkinThickness                 0\n",
       "Insulin                       0\n",
       "BMI                           0\n",
       "DiabetesPedigreeFunction      0\n",
       "Age                           0\n",
       "Outcome                     500\n",
       "dtype: int64"
      ]
     },
     "execution_count": 6,
     "metadata": {},
     "output_type": "execute_result"
    }
   ],
   "source": [
    "check_zeros = data_diabetes.eq(0).sum()\n",
    "check_zeros"
   ]
  },
  {
   "cell_type": "markdown",
   "id": "1c28ce4f-60d6-4ad4-b6f3-7032b69cf881",
   "metadata": {},
   "source": [
    "### 3.2 Feature Scaling"
   ]
  },
  {
   "cell_type": "code",
   "execution_count": 11,
   "id": "24a6afd3-09a9-4517-adf6-1cdadc63d075",
   "metadata": {},
   "outputs": [],
   "source": [
    "# Prepare features and target\n",
    "X = data_diabetes.drop('Outcome', axis=1)\n",
    "y = data_diabetes['Outcome']\n",
    "# Scale features\n",
    "scaler = StandardScaler()\n",
    "scaler.fit(X)\n",
    "X_scaled = scaler.fit_transform(X)\n"
   ]
  },
  {
   "cell_type": "markdown",
   "id": "14ba21b4-2ce7-4309-b927-ee6d402922e2",
   "metadata": {},
   "source": [
    "Standardising features ensures that all variables contribute equally to the model and improves convergence."
   ]
  },
  {
   "cell_type": "markdown",
   "id": "3e1b3cc6-8f35-421a-9c61-3085c7e0292c",
   "metadata": {},
   "source": [
    "## 4. Model Building"
   ]
  },
  {
   "cell_type": "markdown",
   "id": "022c1415-3f8a-4036-9d1b-bac3d572bfb4",
   "metadata": {},
   "source": [
    "### 4.1 Train-Test Split"
   ]
  },
  {
   "cell_type": "code",
   "execution_count": 12,
   "id": "faf9f038-995a-4b00-84b0-b2fa1362230e",
   "metadata": {},
   "outputs": [],
   "source": [
    "X_train, X_test, y_train, y_test = train_test_split(\n",
    "    X_scaled, y, test_size=0.2, random_state=42\n",
    ")"
   ]
  },
  {
   "cell_type": "markdown",
   "id": "05d5c82c-e982-424b-858b-9c4121e38443",
   "metadata": {},
   "source": [
    "We split our data into training and testing sets to properly evaluate model performance."
   ]
  },
  {
   "cell_type": "markdown",
   "id": "c5d90623-c6a5-4089-97f8-9560a4aeb9d4",
   "metadata": {},
   "source": [
    "### 4.2 Models Training"
   ]
  },
  {
   "cell_type": "code",
   "execution_count": 13,
   "id": "c3f723f1-4270-4c39-bdf6-fccb07a1308d",
   "metadata": {},
   "outputs": [
    {
     "name": "stdout",
     "output_type": "stream",
     "text": [
      "\n",
      "Logistic Regression Results:\n",
      "              precision    recall  f1-score   support\n",
      "\n",
      "           0       0.77      0.88      0.82        97\n",
      "           1       0.73      0.56      0.63        57\n",
      "\n",
      "    accuracy                           0.76       154\n",
      "   macro avg       0.75      0.72      0.73       154\n",
      "weighted avg       0.76      0.76      0.75       154\n",
      "\n",
      "\n",
      "Decision Tree Results:\n",
      "              precision    recall  f1-score   support\n",
      "\n",
      "           0       0.77      0.77      0.77        97\n",
      "           1       0.61      0.60      0.60        57\n",
      "\n",
      "    accuracy                           0.71       154\n",
      "   macro avg       0.69      0.68      0.69       154\n",
      "weighted avg       0.71      0.71      0.71       154\n",
      "\n",
      "\n",
      "Random Forest Results:\n",
      "              precision    recall  f1-score   support\n",
      "\n",
      "           0       0.76      0.81      0.79        97\n",
      "           1       0.64      0.56      0.60        57\n",
      "\n",
      "    accuracy                           0.72       154\n",
      "   macro avg       0.70      0.69      0.69       154\n",
      "weighted avg       0.72      0.72      0.72       154\n",
      "\n"
     ]
    }
   ],
   "source": [
    "# Train multiple models\n",
    "from sklearn.linear_model import LogisticRegression\n",
    "from sklearn.tree import DecisionTreeClassifier\n",
    "from sklearn.ensemble import RandomForestClassifier\n",
    "from sklearn.metrics import classification_report\n",
    "\n",
    "models = {\n",
    "    'Logistic Regression': LogisticRegression(),\n",
    "    'Decision Tree': DecisionTreeClassifier(),\n",
    "    'Random Forest': RandomForestClassifier()\n",
    "}\n",
    "\n",
    "# Train and evaluate each model\n",
    "for name, model in models.items():\n",
    "    model.fit(X_train, y_train)\n",
    "    print(f\"\\n{name} Results:\")\n",
    "    print(classification_report(y_test, model.predict(X_test)))"
   ]
  },
  {
   "cell_type": "markdown",
   "id": "73eaff63-860b-4dfa-9267-caff27d9098c",
   "metadata": {},
   "source": [
    "We implement different models to evaluate each model, in medical diagnosis tasks."
   ]
  },
  {
   "cell_type": "markdown",
   "id": "4c797f32-792e-496a-8e9f-fd63817318f5",
   "metadata": {},
   "source": [
    "### 4.3 Model Comparison"
   ]
  },
  {
   "cell_type": "code",
   "execution_count": 14,
   "id": "7a07ba38-88f1-42df-8099-cb3ccab68064",
   "metadata": {},
   "outputs": [
    {
     "name": "stdout",
     "output_type": "stream",
     "text": [
      "                     Accuracy\n",
      "Logistic Regression  0.759740\n",
      "Decision Tree        0.707792\n",
      "Random Forest        0.720779\n"
     ]
    }
   ],
   "source": [
    "# Create comparison table of model performances\n",
    "model_scores = {}\n",
    "for name, model in models.items():\n",
    "    model_scores[name] = model.score(X_test, y_test)\n",
    "    \n",
    "# Display scores as a DataFrame\n",
    "scores_data_diabetes = pd.DataFrame.from_dict(model_scores, orient='index', columns=['Accuracy'])\n",
    "print(scores_data_diabetes)"
   ]
  },
  {
   "cell_type": "markdown",
   "id": "c09d1b41-e6b1-4ff5-8bc2-86ce59acd286",
   "metadata": {},
   "source": [
    "We compare the performance of all three models (Logistic Regression, Decision Tree, and Random Forest) to identify the most effective classifier for our diabetes prediction task."
   ]
  },
  {
   "cell_type": "markdown",
   "id": "b1537782-2c74-4d70-84ed-4bd3491e4fa1",
   "metadata": {},
   "source": [
    "### 4.4 Best Model Analysis"
   ]
  },
  {
   "cell_type": "code",
   "execution_count": 16,
   "id": "e22506e6-14dd-42df-94b8-f8039444b300",
   "metadata": {},
   "outputs": [
    {
     "data": {
      "image/png": "[encoded data removed]",
      "text/plain": [
       "<Figure size 800x600 with 2 Axes>"
      ]
     },
     "metadata": {},
     "output_type": "display_data"
    }
   ],
   "source": [
    "from sklearn.metrics import confusion_matrix\n",
    "# Select best performing model\n",
    "best_model_name = max(model_scores, key=model_scores.get)\n",
    "best_model = models[best_model_name]\n",
    "\n",
    "# Detailed evaluation of best model\n",
    "y_pred = best_model.predict(X_test)\n",
    "\n",
    "# Plot confusion matrix\n",
    "plt.figure(figsize=(8, 6))\n",
    "sns.heatmap(confusion_matrix(y_test, y_pred), annot=True, fmt='d')\n",
    "plt.title(f'Confusion Matrix - {best_model_name}')\n",
    "plt.ylabel('True Label')\n",
    "plt.xlabel('Predicted Label')\n",
    "plt.show()\n",
    "\n",
    "# Feature importance (if Random Forest or Decision Tree is best)\n",
    "if hasattr(best_model, 'feature_importances_'):\n",
    "    importances = pd.DataFrame({\n",
    "        'features': X.columns,\n",
    "        'importance': best_model.feature_importances_\n",
    "    }).sort_values('importance', ascending=False)\n",
    "    print(\"\\nFeature Importances:\")\n",
    "    print(importances)"
   ]
  },
  {
   "cell_type": "markdown",
   "id": "60d1ee6e-5649-4382-8ddb-614a220ad493",
   "metadata": {},
   "source": [
    "We analyze the best performing model in detail, examining its confusion matrix and feature importances (if applicable). This helps us understand which medical measurements are most crucial for diabetes prediction."
   ]
  },
  {
   "cell_type": "code",
   "execution_count": null,
   "id": "b7dc214c-308c-4f4c-914f-c8e0871806cd",
   "metadata": {},
   "outputs": [],
   "source": []
  }
 ],
 "metadata": {
  "kernelspec": {
   "display_name": "Python 3 (ipykernel)",
   "language": "python",
   "name": "python3"
  },
  "language_info": {
   "codemirror_mode": {
    "name": "ipython",
    "version": 3
   },
   "file_extension": ".py",
   "mimetype": "text/x-python",
   "name": "python",
   "nbconvert_exporter": "python",
   "pygments_lexer": "ipython3",
   "version": "3.11.4"
  }
 },
 "nbformat": 4,
 "nbformat_minor": 5
}
